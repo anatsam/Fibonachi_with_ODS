{
 "cells": [
  {
   "cell_type": "code",
   "execution_count": 14,
   "metadata": {},
   "outputs": [],
   "source": [
    "import pytest"
   ]
  },
  {
   "cell_type": "code",
   "execution_count": 15,
   "metadata": {},
   "outputs": [],
   "source": [
    "%run Prover.ipynb\n",
    "%run Verifier.ipynb"
   ]
  },
  {
   "cell_type": "code",
   "execution_count": 16,
   "metadata": {},
   "outputs": [],
   "source": [
    "trance_len = 1024\n",
    "trace = trace_calculator(a=a,trance_len=trance_len)\n",
    "#print(trace)\n",
    "poly = polynomial_evaluation(trace=trace, generator=gen1024)\n",
    "# Sainaty check:\n",
    "assert poly(gen1024**Y_INDEX) == trace[Y_INDEX]\n",
    "Y=trace[Y_INDEX]"
   ]
  },
  {
   "cell_type": "code",
   "execution_count": 17,
   "metadata": {},
   "outputs": [],
   "source": [
    "R = FIELD['x']\n",
    "polynomial = R.lagrange_polynomial([(0,0), (1,1), (2,2)])"
   ]
  },
  {
   "cell_type": "code",
   "execution_count": 18,
   "metadata": {},
   "outputs": [],
   "source": [
    "points = trace_calculator(2, 15)\n",
    "#merkle(points)"
   ]
  },
  {
   "cell_type": "code",
   "execution_count": 19,
   "metadata": {},
   "outputs": [
    {
     "data": {
      "text/plain": [
       "3221225472"
      ]
     },
     "execution_count": 19,
     "metadata": {},
     "output_type": "execute_result"
    }
   ],
   "source": [
    "trace = []\n",
    "domain = []\n",
    "for i in range (1024):\n",
    "    trace.append(gen1024**i)\n",
    "for i in range (1024):\n",
    "    domain.append(trace[reverse_bit(i, 10)])\n",
    "domain[2]**2"
   ]
  },
  {
   "cell_type": "code",
   "execution_count": 20,
   "metadata": {},
   "outputs": [],
   "source": [
    "#domain = domain_extension(poly=CP, trance_len=16, group_gen=gen8192, field_gen=field_gen)\n",
    "domain = domain_extension(trace_len=8192, group_gen=gen8192, field_gen=field_gen)\n",
    "root, merke_tree = commit(poly=copy, domain=domain)\n",
    "#print(merke_tree)"
   ]
  },
  {
   "cell_type": "code",
   "execution_count": 21,
   "metadata": {},
   "outputs": [
    {
     "data": {
      "text/plain": [
       "True"
      ]
     },
     "execution_count": 21,
     "metadata": {},
     "output_type": "execute_result"
    }
   ],
   "source": [
    "%run Prover.ipynb\n",
    "%run Verifier.ipynb\n",
    "\n",
    "\n",
    "root = '9e9adfe81a8f1face1399f0e5a1c18d2c09f5a269918415afaa40e68c8e3fa78'\n",
    "_, Y = create_excecution_trace(a=2, trace_length=1024, destination=Y_INDEX)\n",
    "proof_stage_two = fri(poly, domain,1024,8)\n",
    "verify_second_stage(proof_stage_two,root,1024,8)"
   ]
  },
  {
   "cell_type": "code",
   "execution_count": 22,
   "metadata": {},
   "outputs": [
    {
     "name": "stdout",
     "output_type": "stream",
     "text": [
      "2\n",
      "2\n"
     ]
    }
   ],
   "source": [
    "print(a)\n",
    "trace, Y = create_excecution_trace(a=2, trace_length=1024, destination=Y_INDEX)\n",
    "print(a)\n",
    "proof = prove(2, 1024, Y_INDEX)\n",
    "#proof[1][3]['pathes'][1][0][0]"
   ]
  },
  {
   "cell_type": "code",
   "execution_count": 48,
   "metadata": {},
   "outputs": [
    {
     "name": "stdout",
     "output_type": "stream",
     "text": [
      "(c3, c2, c3)=(1318364153, 799030690, 1318364153)\n",
      "(c3, c2, c3)=(1318364153, 799030690, 1318364153)\n",
      "proof_stage_one['cp']['value'][index][1]=316789721  expected_value=316789721\n",
      "proof_stage_one['cp']['value'][index][1]=2712604596  expected_value=2712604596\n",
      "proof_stage_one['cp']['value'][index][1]=1621374823  expected_value=1621374823\n",
      "proof_stage_one['cp']['value'][index][1]=2395076115  expected_value=2395076115\n",
      "proof_stage_one['cp']['value'][index][1]=1797596464  expected_value=1797596464\n",
      "proof_stage_one['cp']['value'][index][1]=2570986675  expected_value=2570986675\n",
      "proof_stage_one['cp']['value'][index][1]=471088375  expected_value=471088375\n",
      "proof_stage_one['cp']['value'][index][1]=208270774  expected_value=208270774\n"
     ]
    },
    {
     "data": {
      "text/plain": [
       "True"
      ]
     },
     "execution_count": 48,
     "metadata": {},
     "output_type": "execute_result"
    }
   ],
   "source": [
    "%run Prover.ipynb\n",
    "%run Verifier.ipynb\n",
    "\n",
    "## Full proof and verification:\n",
    "\n",
    "#Build trace:\n",
    "trace, Y = create_excecution_trace(a=2, trace_length=1024, destination=Y_INDEX)\n",
    "#Prove trace:\n",
    "proof = prove(a=2, trace_length=1024, destination=Y_INDEX, queries=8)\n",
    "#Intiate verifier:\n",
    "verifier1 = Verifier_first_stage(Y=Y, Y_index=Y_INDEX, excecution_trace_length= 1024, num_of_queries= 8)\n",
    "#Verify composition polynomial:\n",
    "verifier1.verify(proof_stage_one=proof[0], proof_stage_two=proof[1])\n",
    "#Verify FRI:\n",
    "verify_second_stage(proof[1],proof[0]['cp']['root'],1024,8)"
   ]
  },
  {
   "cell_type": "code",
   "execution_count": null,
   "metadata": {},
   "outputs": [],
   "source": []
  },
  {
   "cell_type": "code",
   "execution_count": null,
   "metadata": {},
   "outputs": [],
   "source": []
  }
 ],
 "metadata": {
  "kernelspec": {
   "display_name": "SageMath 9.0",
   "language": "sage",
   "name": "sagemath"
  },
  "language_info": {
   "codemirror_mode": {
    "name": "ipython",
    "version": 3
   },
   "file_extension": ".py",
   "mimetype": "text/x-python",
   "name": "python",
   "nbconvert_exporter": "python",
   "pygments_lexer": "ipython3",
   "version": "3.8.10"
  }
 },
 "nbformat": 4,
 "nbformat_minor": 4
}
