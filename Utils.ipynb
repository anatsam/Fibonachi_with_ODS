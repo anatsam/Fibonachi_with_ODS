{
 "cells": [
  {
   "cell_type": "code",
   "execution_count": 1,
   "id": "ed02f5b7",
   "metadata": {},
   "outputs": [],
   "source": [
    "import hashlib\n",
    "from sage.rings.finite_rings.integer_mod import IntegerMod_gmp\n",
    "from sage.rings.polynomial.polynomial_zmod_flint import Polynomial_zmod_flint\n",
    "#from math import log\n",
    "# DIFINES\n",
    "PRIME = 3*2**30+1\n",
    "FIELD = GF(PRIME)"
   ]
  },
  {
   "cell_type": "code",
   "execution_count": 2,
   "id": "ed372b50",
   "metadata": {},
   "outputs": [],
   "source": [
    "F.<x> = PolynomialRing(GF(PRIME),'x')\n",
    "field_gen = FIELD.multiplicative_generator()\n",
    "gen8192 = field_gen ** ((PRIME-1)/8192)\n",
    "gen1024 = field_gen ** ((PRIME-1)/1024)"
   ]
  },
  {
   "cell_type": "code",
   "execution_count": 3,
   "id": "b3f1e46b",
   "metadata": {},
   "outputs": [],
   "source": [
    "Y_INDEX = 999\n",
    "a = 2 "
   ]
  },
  {
   "cell_type": "code",
   "execution_count": 9,
   "id": "1a978e95",
   "metadata": {},
   "outputs": [],
   "source": [
    "# def merkle(points: list):\n",
    "#     if len(points) <= 1:\n",
    "#         return points[0]\n",
    "#     squeezed_points = []\n",
    "#     for i in range(len(points)//2):\n",
    "#         temp_string = ''.join(str(points[i*2]))\n",
    "#         temp_string = temp_string.join(str(points[i*2+1]))\n",
    "#         squeezed_points.append(sha3(temp_string))\n",
    "#     if len(points)%2 == 1:\n",
    "#         squeezed_points.append(sha3(''.join(str(points[-1]))))\n",
    "#     return merkle(squeezed_points)"
   ]
  },
  {
   "cell_type": "code",
   "execution_count": 10,
   "id": "c6f9aeba",
   "metadata": {},
   "outputs": [],
   "source": [
    "def sha3(string: str):\n",
    "    byte=string.encode('ascii')\n",
    "    m = hashlib.sha3_256()\n",
    "    m.update(byte)\n",
    "    \n",
    "    return m.hexdigest()"
   ]
  },
  {
   "cell_type": "code",
   "execution_count": 11,
   "id": "aa2234d5",
   "metadata": {},
   "outputs": [],
   "source": [
    "def fiat_shamir_random(data: str, nonce = 0)-> int:\n",
    "    if nonce:\n",
    "        data = sha3(data + str(nonce))\n",
    "    rand = int.from_bytes(data.encode('ascii'), \"big\")\n",
    "    return rand%PRIME"
   ]
  },
  {
   "cell_type": "code",
   "execution_count": 13,
   "id": "75177503",
   "metadata": {},
   "outputs": [],
   "source": [
    "def reverse_bit(n, width = 10):\n",
    "    n_binary = '{:0{width}b}'.format(n, width=width)\n",
    "    return int(n_binary[::-1], 2)"
   ]
  },
  {
   "cell_type": "code",
   "execution_count": 14,
   "id": "6fbe0fa3",
   "metadata": {},
   "outputs": [],
   "source": [
    "# def low_degree_extension(poly: Polynomial_zmod_flint, trance_len: int, group_gen: IntegerMod_gmp, field_gen: IntegerMod_gmp):\n",
    "#     coset_set = [field_gen*(group_gen**i) for i in range (trance_len)]\n",
    "#     new_coset_set = [coset_set[reverse_bit(i, log(trance_len,2))] for i in range (trance_len)]\n",
    "#     return [(c, poly(c)) for c in new_coset_set]\n"
   ]
  },
  {
   "cell_type": "code",
   "execution_count": 37,
   "id": "59f82d6c",
   "metadata": {},
   "outputs": [],
   "source": [
    "def hash_tow_elements(element1, element2):\n",
    "        temp_string = ''.join(str(element1))\n",
    "        temp_string = temp_string.join(str(element2))\n",
    "        return(sha3(temp_string))\n",
    "\n",
    "def hash_one_elements(element):\n",
    "    return(sha3(str(element)))\n",
    "\n",
    "\n",
    "class MerkeTree():\n",
    "    \n",
    "    tree: dict = {}\n",
    "    domain_size: int\n",
    "    \n",
    "    def __init__(self, domain:list):\n",
    "        self.tree={}\n",
    "        self.domain_size = len(domain)\n",
    "        # Calculate the hashes of each point in the domain.\n",
    "        # Inset the leavs and their hashes to the tree. \n",
    "        domain_hashed = []\n",
    "        for element in domain:\n",
    "            hashed_element = hash_one_elements(element)\n",
    "            self.tree[hashed_element] = element\n",
    "            domain_hashed.append(hashed_element)\n",
    "\n",
    "        # Now all the leavs are in the tree.\n",
    "        # Construct the hash piramid.\n",
    "        self.recursive_merkle(nodes_layer=domain_hashed)\n",
    "\n",
    "    def recursive_merkle(self, nodes_layer: list):\n",
    "        if len(nodes_layer) <= 1:\n",
    "            #This is the root of the merkle tree.\n",
    "            self.tree['root']=nodes_layer[0]\n",
    "            return\n",
    "\n",
    "        assert len(nodes_layer)%2 ==0\n",
    "        \n",
    "        # Create a new layer of nodes in the tree\n",
    "        new_nodes_layre = []\n",
    "\n",
    "        # Create a new node based on the two node beneath it.\n",
    "        for i in range(len(nodes_layer)/2):\n",
    "            hash_element = hash_tow_elements(nodes_layer[i*2], nodes_layer[i*2+1])\n",
    "            self.tree[hash_element] = (nodes_layer[i*2], nodes_layer[i*2+1])\n",
    "            new_nodes_layre.append(hash_element)\n",
    "            \n",
    "        return self.recursive_merkle(nodes_layer = new_nodes_layre)\n",
    "    \n",
    "    @property\n",
    "    def root(self):\n",
    "        return self.tree['root']\n",
    "    \n",
    "    def get_value_and_path_by_index(self, index: int):\n",
    "        \n",
    "        index_size = int(log(self.domain_size, 2))\n",
    "        key = self.tree['root']\n",
    "        \n",
    "        # Shift the index from an int to a binary list.\n",
    "        index_as_str = format(index, f'#0{index_size+2}b')\n",
    "\n",
    "        # Shift from '0b1110' to '1110'\n",
    "        index_as_str = index_as_str[2:] \n",
    "\n",
    "        path = {}\n",
    "        while(index_as_str):\n",
    "            value = self.tree[key]\n",
    "            path[key] = value\n",
    "            direction_bit = int(index_as_str[0])\n",
    "            key = value[direction_bit]\n",
    "            index_as_str = index_as_str[1:]\n",
    "        \n",
    "        #Now the key is the hash of the required index. Reauired value = tree[key] = (coset, CP[coset])\n",
    "        path[key] = self.tree[key]\n",
    "        return(path[key], path)\n"
   ]
  },
  {
   "cell_type": "code",
   "execution_count": 2,
   "id": "910a87fb",
   "metadata": {},
   "outputs": [],
   "source": [
    "# def verify_path_by_index_can(root: str, expected_value , path: dict):\n",
    "\n",
    "#     #Verify - expected value is in the path\n",
    "#     end_of_path = hash_one_elements(expected_value)\n",
    "#     assert path[end_of_path] == expected_value \n",
    "#     key = root\n",
    "#     while(key):\n",
    "#         value = path[key]\n",
    "#         #verify - the path is correct\n",
    "#         if key != end_of_path:\n",
    "#             assert key == hash_tow_elements(value[0], value[1])\n",
    "\n",
    "#         #check wich child is the continuation of the path\n",
    "#         if value[0] in path:\n",
    "#             key = value[0]\n",
    "#         elif value[1] in path:\n",
    "#             key = value[1]\n",
    "\n",
    "#         else: #Stop at the end of the path\n",
    "#             key=0"
   ]
  },
  {
   "cell_type": "code",
   "execution_count": 4,
   "id": "edb2cbfd",
   "metadata": {},
   "outputs": [
    {
     "ename": "SyntaxError",
     "evalue": "invalid syntax (<ipython-input-4-edb34032a947>, line 9)",
     "output_type": "error",
     "traceback": [
      "\u001b[0;36m  File \u001b[0;32m\"<ipython-input-4-edb34032a947>\"\u001b[0;36m, line \u001b[0;32m9\u001b[0m\n\u001b[0;31m    print(f'{True if: '715e66a3bd7be65cdf9357ef84542439012aa1f086d8d83cde5e9e9d8ab034a7' in path = }')\u001b[0m\n\u001b[0m                       ^\u001b[0m\n\u001b[0;31mSyntaxError\u001b[0m\u001b[0;31m:\u001b[0m invalid syntax\n"
     ]
    }
   ],
   "source": [
    "def verify_path_by_index(root: str, expected_value: tuple, index: int, domain_size: int, path: dict):\n",
    "\n",
    "    index_size = int(log(domain_size, 2))\n",
    "    index_as_str = format(index, f'#0{index_size+2}b')\n",
    "    # shift from '0b1110' to '1110'\n",
    "    index_as_str = index_as_str[2:] \n",
    "    key=root\n",
    "    while(index_as_str):\n",
    "        value = path[key]\n",
    "\n",
    "        #Verify the hash:\n",
    "        assert hash_tow_elements(value[0], value[1]) == key\n",
    "\n",
    "        direction_bit = int(index_as_str[0])\n",
    "        key = value[direction_bit]\n",
    "        index_as_str = index_as_str[1:]\n",
    "\n",
    "    #Now the key is the hash of the required index. Reauired value = tree[key] = (coset, CP[coset])\n",
    "    value = path[key]\n",
    "    assert hash_one_elements(value) == key\n",
    "    assert value == expected_value"
   ]
  },
  {
   "cell_type": "code",
   "execution_count": null,
   "id": "f535a4d0",
   "metadata": {},
   "outputs": [],
   "source": [
    "def domain_extension( trace_len: int, group_gen: IntegerMod_gmp, field_gen: IntegerMod_gmp):\n",
    "    coset_set = [field_gen*(group_gen**i) for i in range (trace_len)]\n",
    "    new_coset_set = [coset_set[reverse_bit(i, log(trace_len,2))] for i in range (trace_len)]\n",
    "    return new_coset_set"
   ]
  },
  {
   "cell_type": "code",
   "execution_count": 45,
   "id": "10d21ce4",
   "metadata": {},
   "outputs": [],
   "source": [
    "def get_extented_domain(excecution_trace_length: int, num_of_queries: int = 8):\n",
    "    domain_size = excecution_trace_length*num_of_queries\n",
    "    domain_gen = field_gen ** ((PRIME-1)/domain_size)\n",
    "    domain = domain_extension(domain_size , domain_gen, field_gen)\n",
    "    return domain"
   ]
  },
  {
   "cell_type": "code",
   "execution_count": null,
   "id": "49692f68",
   "metadata": {},
   "outputs": [],
   "source": [
    "def get_random_index_to_sample(queries: int, merkel_root: list, domain_len: int):\n",
    "    index_to_sample = [0]*queries\n",
    "    combined_root = ''.join(root for root in merkel_root)\n",
    "    num_of_couples = queries/2\n",
    "    domain_to_query = domain_len/num_of_couples #make sure that every couple of points are from different branch\n",
    "    for i in range(num_of_couples):\n",
    "        index_to_sample[i*2] = int(fiat_shamir_random(combined_root,i)%domain_to_query+i*domain_to_query)\n",
    "        index_to_sample[i*2+1] = index_to_sample[i*2]+(-1)**(index_to_sample[i*2]%2)\n",
    "    return index_to_sample"
   ]
  },
  {
   "cell_type": "code",
   "execution_count": null,
   "id": "57034e5c",
   "metadata": {},
   "outputs": [],
   "source": [
    "def get_next_stage_indexes(current_stage_indexes: list):\n",
    "    new_index_to_sample = []\n",
    "    for index in current_stage_indexes:\n",
    "        index//=2\n",
    "        temp_index = index + (-1)**(index%2)\n",
    "        if temp_index not in new_index_to_sample:\n",
    "            new_index_to_sample.append(temp_index)\n",
    "    return new_index_to_sample"
   ]
  },
  {
   "cell_type": "code",
   "execution_count": null,
   "id": "f87d3748-1eca-49b4-8451-61ca43f61550",
   "metadata": {},
   "outputs": [],
   "source": [
    "def create_poly_coeff(ex_poly_root):\n",
    "    c1 = fiat_shamir_random(ex_poly_root)\n",
    "    c2 = fiat_shamir_random(str(c1))\n",
    "    c3 = fiat_shamir_random(str(c2))\n",
    "    print(f\"{(c3, c2, c3)=}\")\n",
    "    return(c3, c2, c3)"
   ]
  }
 ],
 "metadata": {
  "kernelspec": {
   "display_name": "SageMath 9.0",
   "language": "sage",
   "name": "sagemath"
  },
  "language_info": {
   "codemirror_mode": {
    "name": "ipython",
    "version": 3
   },
   "file_extension": ".py",
   "mimetype": "text/x-python",
   "name": "python",
   "nbconvert_exporter": "python",
   "pygments_lexer": "ipython3",
   "version": "3.8.10"
  }
 },
 "nbformat": 4,
 "nbformat_minor": 5
}
