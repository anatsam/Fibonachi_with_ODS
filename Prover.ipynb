{
 "cells": [
  {
   "cell_type": "code",
   "execution_count": 2,
   "id": "e879e79c",
   "metadata": {},
   "outputs": [
    {
     "name": "stdout",
     "output_type": "stream",
     "text": [
      "2\n"
     ]
    }
   ],
   "source": [
    "%run Utils.ipynb"
   ]
  },
  {
   "cell_type": "code",
   "execution_count": 10,
   "id": "76c9091b",
   "metadata": {},
   "outputs": [],
   "source": [
    "def trace_calculator(a: int, trance_len: int) -> list:\n",
    "    trace = [1, a]\n",
    "    for i in range(2,trance_len):\n",
    "        trace.append((trace[i-1] + trace[i-2])%PRIME)\n",
    "    return trace"
   ]
  },
  {
   "cell_type": "code",
   "execution_count": 11,
   "id": "f41e7dca",
   "metadata": {},
   "outputs": [],
   "source": [
    "def polynomial_evaluation (trace: list, generator: IntegerMod_gmp) -> Polynomial_zmod_flint:\n",
    "    points =[]\n",
    "    for i, y in enumerate (trace): \n",
    "        points.append((generator**i, y))\n",
    "    \n",
    "    R = FIELD['x']\n",
    "    polynomial = R.lagrange_polynomial(points)\n",
    "    return polynomial"
   ]
  },
  {
   "cell_type": "code",
   "execution_count": 12,
   "id": "2d9d633e",
   "metadata": {},
   "outputs": [],
   "source": [
    "def compositon_polynomial(poly_list: list, random_co: dict):\n",
    "    cp=0*x\n",
    "    for poly in poly_list:\n",
    "        cp=cp + poly * random_co[poly]\n",
    "    return cp\n"
   ]
  },
  {
   "cell_type": "code",
   "execution_count": 13,
   "id": "25e4265f",
   "metadata": {
    "tags": []
   },
   "outputs": [],
   "source": [
    "def constrains_polynomials(poly: Polynomial_zmod_flint, trance_len: int, Y: IntegerMod_gmp, index_y: int , gen: IntegerMod_gmp):\n",
    "    n=trance_len\n",
    "    p1 = (poly-1)._divide_if_possible(x-gen**0)\n",
    "    p2 = (poly - Y)._divide_if_possible(x-gen**index_y)\n",
    "    \n",
    "    # (x-g**0)(x-g**1)...(x-g**(n-1)) = x**n-1\n",
    "    # \n",
    "    constrain_3_numer = poly(gen ** 2 * x) - poly(gen * x) - poly(x)\n",
    "    # constrain_3_numer should divide by all powers of gen: x=g**0, .... x= g**(n-3)\n",
    "    constrain_3_denom = (x**n-1)._divide_if_possible( (x-gen**(n-1)) * (x-gen**(n-2)) )\n",
    "    # p3 = (poly(gen ** 2 * x) - poly(gen * x) - poly(x))*(x-gen**(n-1)) \\\n",
    "    #     * (x-gen**(n-2))*(x-gen**(n-3))/(x**n-1)\n",
    "    p3 = constrain_3_numer._divide_if_possible(constrain_3_denom)\n",
    "    return (p1, p2, p3)\n"
   ]
  },
  {
   "cell_type": "code",
   "execution_count": 17,
   "id": "c88b141c",
   "metadata": {},
   "outputs": [],
   "source": [
    "def fri(poly: Polynomial_zmod_flint, domain: list , degree = 1024, queries = 8) -> dict:\n",
    "    stages = log(degree, 2)\n",
    "    domains, polynomials, merkel_root, merkle_layer = commit_on_layers(poly, domain, stages)\n",
    "    index_to_sample_layer_0 = get_random_index_to_sample(queries, merkel_root, domain_len = len(domains[0]))\n",
    "    pathes = query_random_points(polynomials, stages, merkle_layer, index_to_sample_layer_0)\n",
    "    \n",
    "    return {'root':merkel_root, 'pathes':pathes}\n",
    "    #proof stage two = {'root':merkel_root, 'pathes':pathes}\n",
    "    #value at index = pathes[stage][index][0]\n",
    "    #path of value at index = pathes[stage][index][1]\n",
    "    \n",
    "def commit_on_layers(poly, domain: list, stages: int):\n",
    "    domains, polynomials, merkel_root, merkle_layer = [None]*stages, [None]*stages, [None]*stages, [None]*stages\n",
    "    domains[0] = domain\n",
    "    polynomials[0] = poly\n",
    "    for stage in range (stages):\n",
    "        domain = domains[stage]\n",
    "        poly = polynomials[stage]\n",
    "        merkel_root[stage], merkle_layer[stage] = commit(polynomials[stage], domains[stage])    \n",
    "        rand = fiat_shamir_random(merkel_root[stage])\n",
    "        if stage + 1 in range(stages):\n",
    "            polynomials[stage+1], domains[stage+1] = fri_next_layer(poly=poly, domain=domain, rand = rand)\n",
    "    return domains, polynomials, merkel_root, merkle_layer\n",
    "\n",
    "def query_random_points(\n",
    "    polynomials: list, stages: int, merkle_layer: list, index_to_sample_layer_0: list\n",
    "):\n",
    "    index_to_sample = index_to_sample_layer_0\n",
    "    pathes = []\n",
    "    for stage in range (stages):\n",
    "        poly = polynomials[stage]\n",
    "        pathes_in_stage = {} # {index: (value, path)}\n",
    "        \n",
    "        if stage > 0:  \n",
    "            index_to_sample = get_next_stage_indexes(index_to_sample)\n",
    "            \n",
    "        for index in index_to_sample:\n",
    "            value_at_index, path = evaluate_points_and_path(merkle_layer[stage], int(index))\n",
    "            pathes_in_stage[index] = (value_at_index, path)\n",
    "        pathes.append(pathes_in_stage)\n",
    "    return pathes"
   ]
  },
  {
   "cell_type": "code",
   "execution_count": 8,
   "id": "af919b52",
   "metadata": {},
   "outputs": [],
   "source": [
    "def commit(poly: Polynomial_zmod_flint, domain: list):\n",
    "    #first stage: evaluation above the whole domain and creation of merkle tree\n",
    "    points=[(d, poly(d)) for d in domain]\n",
    "    tree = MerkeTree(domain=points)\n",
    "    return (tree.root, tree)"
   ]
  },
  {
   "cell_type": "code",
   "execution_count": 21,
   "id": "9282457b",
   "metadata": {
    "tags": []
   },
   "outputs": [],
   "source": [
    "def fri_next_layer(poly: Polynomial_zmod_flint, domain: list , rand: int):\n",
    "    #calculate the polynomial and the domain of the next stage\n",
    "    even = 0*x\n",
    "    odd = 0*x\n",
    "    for degree,coef in poly.dict().items():\n",
    "        if degree%2==0:\n",
    "            even = even + coef*x**(degree//2)\n",
    "        else:\n",
    "            odd = odd + coef*x**(degree//2)\n",
    "    next_layer = even + rand*odd\n",
    "    new_domain = []\n",
    "    for i in range(0,len(domain),2):\n",
    "        assert domain[i]**2 == domain[i+1]**2\n",
    "        new_domain.append(domain[i]**2)\n",
    "    return next_layer, new_domain"
   ]
  },
  {
   "cell_type": "code",
   "execution_count": 38,
   "id": "57eb3edc",
   "metadata": {},
   "outputs": [],
   "source": [
    "def evaluate_points_and_path(tree: MerkeTree, index: int):\n",
    "    return tree.get_value_and_path_by_index(index=index)"
   ]
  },
  {
   "cell_type": "code",
   "execution_count": 1,
   "id": "f13668d2",
   "metadata": {},
   "outputs": [],
   "source": [
    "def create_excecution_trace(a: int, trace_length: int, destination):\n",
    "    trace = trace_calculator(a,trace_length)\n",
    "    Y = trace[destination]\n",
    "    return (trace, Y)\n",
    "    \n",
    "def prove(a: int, trace_length: int, destination, queries: int = 8):\n",
    "    trace = trace_calculator(a,trace_length)\n",
    "    Y = trace[destination]\n",
    "    poly = polynomial_evaluation(trace, gen1024)\n",
    "    p1, p2, p3 = constrains_polynomials(poly, len(trace), Y, destination, gen1024)\n",
    "    #domain_size = len(trace)*queries\n",
    "    #domain_gen = field_gen ** ((PRIME-1)/domain_size)\n",
    "    domain = get_extented_domain(excecution_trace_length=trace_length, num_of_queries=queries)\n",
    "    proof_stage_one = {} #{polynomial name:{'root' = root, 'value' = value,'path' = path}}\n",
    "    random_co = {}\n",
    "    merkle_p = {}\n",
    "    root_p = {}\n",
    "    value_at_index= {}\n",
    "    path = {}\n",
    "    \n",
    "    ex_poly_root, ex_poly_merkle = commit(poly, domain)\n",
    "    root_p[poly] = ex_poly_root\n",
    "    merkle_p[poly] = ex_poly_merkle\n",
    "    coef =create_poly_coeff(ex_poly_root)\n",
    "    \n",
    "    for i, p in enumerate([p1, p2, p3]):\n",
    "        #root_p[p], merkle_p[p] = commit(p, domain)\n",
    "        random_co[p] = coef[i]\n",
    "    \n",
    "    cp = compositon_polynomial([p1, p2, p3], random_co)\n",
    "    root_p[cp], merkle_p[cp] = commit(cp, domain)\n",
    "    z = fiat_shamir_random(root_p[cp])\n",
    "    proof_stage_two = fri(cp, domain ,trace_length , queries)\n",
    "    #proof stage two = {'root':merkel_root, 'pathes':pathes}\n",
    "    #value at index = pathes[stage][index][0]\n",
    "    #path of value at index = pathes[stage][index][1]\n",
    "    indexes = get_random_index_to_sample(queries=queries, merkel_root = proof_stage_two['root'], domain_len = len(domain))    \n",
    "    polynomials = [poly, cp]\n",
    "    proof_stage_one = get_fz_cz(z=z, polynomials=polynomials, root_p=root_p)\n",
    "    return proof_stage_one, proof_stage_two"
   ]
  },
  {
   "cell_type": "code",
   "execution_count": null,
   "id": "feb946ec-bab4-401b-a59c-5d6ff00f2ffa",
   "metadata": {},
   "outputs": [],
   "source": [
    "def create_poly_coeff(ex_poly_root):\n",
    "    c1 = fiat_shamir_random(ex_poly_root)\n",
    "    c2 = fiat_shamir_random(c1)\n",
    "    c3 = fiat_shamir_random(c2)\n",
    "    return(c3, c2, c3)"
   ]
  },
  {
   "cell_type": "code",
   "execution_count": null,
   "id": "4c6b7781",
   "metadata": {},
   "outputs": [],
   "source": [
    "def prove_cp_soundness(indexes: list, polynomials: list, root_p: dict, merkle_p: dict, ex_poly, domain: list):\n",
    "    #indexes = fiat_shamir_random(root_p[cp])%len(domain) ##TODO - Change\n",
    "    proof_stage_one = {} #{polynomial name:{'root' = root, 'value' = value,'path' = path}}\n",
    "    names = ['ex_poly', 'cp']\n",
    "    for p , name in zip(polynomials, names):\n",
    "        #value_at_index= {}\n",
    "        #path = {}\n",
    "        internal_proof_dict={'value':{}, 'path':{}}\n",
    "        internal_proof_dict['root'] = root_p[p]\n",
    "        for index in indexes:\n",
    "            value_at_index, path = evaluate_points_and_path(merkle_p[p], index)\n",
    "            internal_proof_dict['value'][index] = value_at_index\n",
    "            internal_proof_dict['path'][index] = path\n",
    "        proof_stage_one[name] = internal_proof_dict\n",
    "    \n",
    "    #Create a copy of poly(x), poly(g*x), poly(g**2 *x)\n",
    "    exceqution_polinomial_samples={'ex_p()':{}, 'ex_p(g)':{}, 'ex_p(g**2)':{}}\n",
    "    for index in indexes:\n",
    "        exceqution_polinomial_samples['ex_p()'][index] = ex_poly(domain[index])\n",
    "        exceqution_polinomial_samples['ex_p(g)'][index] = ex_poly(domain[index]*gen1024)\n",
    "        exceqution_polinomial_samples['ex_p(g**2)'][index] = ex_poly(domain[index]*gen1024**2)\n",
    "    proof_stage_one['ex_poly_samples'] = exceqution_polinomial_samples\n",
    "    return proof_stage_one"
   ]
  },
  {
   "cell_type": "code",
   "execution_count": null,
   "id": "d49c25ea-0072-4395-ac7f-44bd3b99ace1",
   "metadata": {},
   "outputs": [],
   "source": [
    "def get_fz_cz(z: IntegerMod_gmp, polynomials: list, root_p: dict):\n",
    "    #indexes = fiat_shamir_random(root_p[cp])%len(domain) ##TODO - Change\n",
    "    proof_stage_one = {} #{polynomial name:{'root' = root, 'value' = value,'path' = path}}\n",
    "    names = ['ex_poly', 'cp']\n",
    "    for p , name in zip(polynomials, names):\n",
    "        #value_at_index= {}\n",
    "        #path = {}\n",
    "        internal_proof_dict={'value':{}, 'path':{}}\n",
    "        internal_proof_dict['root'] = root_p[p]\n",
    "        internal_proof_dict['value'] = (z, p(z))\n",
    "        proof_stage_one[name] = internal_proof_dict\n",
    "    \n",
    "    #Create a copy of poly(x), poly(g*x), poly(g**2 *x)\n",
    "    \n",
    "    # Get f(z)\n",
    "    exceqution_polinomial_samples={'ex_p()':{}, 'ex_p(g)':{}, 'ex_p(g**2)':{}}\n",
    "    ex_poly = polynomials[0]\n",
    "    exceqution_polinomial_samples['ex_p()'] = ex_poly(z)\n",
    "    exceqution_polinomial_samples['ex_p(g)'] = ex_poly(z*gen1024)\n",
    "    exceqution_polinomial_samples['ex_p(g**2)'] = ex_poly(z*gen1024**2)\n",
    "    proof_stage_one['ex_poly_z'] = exceqution_polinomial_samples\n",
    "    return proof_stage_one"
   ]
  },
  {
   "cell_type": "code",
   "execution_count": null,
   "id": "3e38389f",
   "metadata": {},
   "outputs": [],
   "source": [
    "# poly(x)\n",
    "# poly(gen ** 2 * x) \n",
    "# poly(gen * x) "
   ]
  }
 ],
 "metadata": {
  "kernelspec": {
   "display_name": "SageMath 9.0",
   "language": "sage",
   "name": "sagemath"
  },
  "language_info": {
   "codemirror_mode": {
    "name": "ipython",
    "version": 3
   },
   "file_extension": ".py",
   "mimetype": "text/x-python",
   "name": "python",
   "nbconvert_exporter": "python",
   "pygments_lexer": "ipython3",
   "version": "3.8.10"
  },
  "toc-autonumbering": true,
  "toc-showcode": true
 },
 "nbformat": 4,
 "nbformat_minor": 5
}
